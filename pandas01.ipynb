{
 "cells": [
  {
   "cell_type": "code",
   "execution_count": 1,
   "metadata": {
    "collapsed": true
   },
   "outputs": [],
   "source": [
    "import numpy as np"
   ]
  },
  {
   "cell_type": "markdown",
   "source": [
    "两行三列 * 三行四列"
   ],
   "metadata": {
    "collapsed": false
   }
  },
  {
   "cell_type": "code",
   "execution_count": 2,
   "outputs": [],
   "source": [
    "M1 = np.random.rand(2, 3)\n",
    "M2 = np.random.rand(3, 4)"
   ],
   "metadata": {
    "collapsed": false,
    "pycharm": {
     "name": "#%%\n"
    }
   }
  },
  {
   "cell_type": "markdown",
   "source": [
    "矩阵乘法为sum(第一个矩阵第一行*第一个矩阵第一列),sum(第一个矩阵第一行*第二个矩阵第二列),......\n",
    "        sum(第一个矩阵第二行*第二个矩阵第一列),.....................................\n",
    "所以先遍历第一个第一行 第二个第一列就是\n",
    "[for i in range(M1.shape[0])],遍历第一行\n",
    "[for j in range(M2.shape[1])],遍历第一列\n",
    "[for k in range(M2.shape[1])],第一行,第一列每个元素的下标 ik,jk结合起来就是元素的坐标\n",
    "把相乘的元素加起来\n",
    "[M1[i][k] * M2[k][j] for k in range(M2.shape[1])]\n",
    "sum([M1[i][k] * M2[k][j] for k in range(M2.shape[1])])\n",
    "最后拼起来就好啦 从右往左拼"
   ],
   "metadata": {
    "collapsed": false
   }
  },
  {
   "cell_type": "code",
   "execution_count": null,
   "outputs": [],
   "source": [
    "[[sum([M1[i][k] * M2[k][j] for k in range(M1.shape[1])]) for j in range(M2.shape[1])] for i in range(M1.shape[0])]"
   ],
   "metadata": {
    "collapsed": false,
    "pycharm": {
     "name": "#%%\n"
    }
   }
  }
 ],
 "metadata": {
  "kernelspec": {
   "display_name": "Python 3",
   "language": "python",
   "name": "python3"
  },
  "language_info": {
   "codemirror_mode": {
    "name": "ipython",
    "version": 2
   },
   "file_extension": ".py",
   "mimetype": "text/x-python",
   "name": "python",
   "nbconvert_exporter": "python",
   "pygments_lexer": "ipython2",
   "version": "2.7.6"
  }
 },
 "nbformat": 4,
 "nbformat_minor": 0
}