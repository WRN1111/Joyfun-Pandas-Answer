{
 "cells": [
  {
   "cell_type": "code",
   "execution_count": 10,
   "metadata": {
    "collapsed": true
   },
   "outputs": [],
   "source": [
    "import numpy as np\n",
    "import pandas as pd"
   ]
  },
  {
   "cell_type": "code",
   "execution_count": 21,
   "outputs": [
    {
     "name": "stdout",
     "output_type": "stream",
     "text": [
      "[[1 2 3]\n",
      " [4 5 6]\n",
      " [7 8 9]]\n",
      "[[1.83333333]\n",
      " [0.61666667]\n",
      " [0.37896825]]\n"
     ]
    }
   ],
   "source": [
    "A = np.arange(1, 10).reshape(3, -1)\n",
    "print(A)\n",
    "print((1/A).sum(1).reshape(-1,1))"
   ],
   "metadata": {
    "collapsed": false,
    "pycharm": {
     "name": "#%%\n"
    }
   }
  },
  {
   "cell_type": "markdown",
   "source": [
    "首先把所有元素的倒数求出来就是1/A\n",
    "再看官方示例B2,2=5×(1/4+1/5+1/6)=37/12\n",
    "A中每一个元素乘的数都是对应行元素倒数之和是一个定值,我们可以先把这个定值求出来\n",
    "也就是1/A每一行相加->1/A.sum(1),这里的1是axis=1，按照列顺序对行求和\n",
    "之后重整形状变成一列.shape(-1,1)\n",
    "再让A*这一列就是同一行的每个元素*倒数之和相加定值"
   ],
   "metadata": {
    "collapsed": false
   }
  },
  {
   "cell_type": "code",
   "execution_count": 18,
   "outputs": [
    {
     "name": "stdout",
     "output_type": "stream",
     "text": [
      "[[1.83333333 3.66666667 5.5       ]\n",
      " [2.46666667 3.08333333 3.7       ]\n",
      " [2.65277778 3.03174603 3.41071429]]\n"
     ]
    }
   ],
   "source": [
    "B = A * ((1/A).sum(1).reshape(-1,1))\n",
    "print(B)"
   ],
   "metadata": {
    "collapsed": false,
    "pycharm": {
     "name": "#%%\n"
    }
   }
  }
 ],
 "metadata": {
  "kernelspec": {
   "display_name": "Python 3",
   "language": "python",
   "name": "python3"
  },
  "language_info": {
   "codemirror_mode": {
    "name": "ipython",
    "version": 2
   },
   "file_extension": ".py",
   "mimetype": "text/x-python",
   "name": "python",
   "nbconvert_exporter": "python",
   "pygments_lexer": "ipython2",
   "version": "2.7.6"
  }
 },
 "nbformat": 4,
 "nbformat_minor": 0
}