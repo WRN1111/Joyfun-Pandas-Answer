{
 "cells": [
  {
   "cell_type": "code",
   "execution_count": 1,
   "metadata": {
    "collapsed": true
   },
   "outputs": [],
   "source": [
    "import numpy as np"
   ]
  },
  {
   "cell_type": "markdown",
   "source": [
    "lc easy题吧 就是练习api 习惯了cpp直接双指针+滑动窗口就能做,结合打印结果看很清楚"
   ],
   "metadata": {
    "collapsed": false
   }
  },
  {
   "cell_type": "code",
   "execution_count": 6,
   "outputs": [
    {
     "name": "stdout",
     "output_type": "stream",
     "text": [
      "[False  True False False]\n",
      "[1 0 1 0 0 1]\n",
      "(array([0, 2, 5], dtype=int64),)\n",
      "[[2 3]]\n"
     ]
    }
   ],
   "source": [
    "x = [1,2,5,6,7]#1,2之间为第一个空位,2,5之间为第二个空位,以此类推\n",
    "print(np.diff(x)!=1)#如果一个数列是连续的,那么diff之后n个元素会形成n-1个1,如果不连续,那么不为0的所指向的空位之前全部连续,之后也全部连续,我们要做的就是比较这两个子序列谁长\n",
    "print(np.r_[1,np.diff(x)!=1,1])#将前一个子序列填1,后一个也填1这样计算长度就可以直接减了,不一定非要填1 不为零的数都可以\n",
    "print(np.nonzero(np.r_[1,np.diff(x)!=1,1]))#结果就是第一个子序列开始到空位的两个索引下标,和从索引下标到后一个子序列的末尾下标\n",
    "print(np.diff(np.nonzero(np.r_[1,np.diff(x)!=1,1])))#直接相减得到长度 如果不补1还要考虑下标和长度的事 明白第3行为什么填1了吧"
   ],
   "metadata": {
    "collapsed": false,
    "pycharm": {
     "name": "#%%\n"
    }
   }
  },
  {
   "cell_type": "code",
   "execution_count": null,
   "outputs": [],
   "source": [],
   "metadata": {
    "collapsed": false,
    "pycharm": {
     "name": "#%%\n"
    }
   }
  }
 ],
 "metadata": {
  "kernelspec": {
   "display_name": "Python 3",
   "language": "python",
   "name": "python3"
  },
  "language_info": {
   "codemirror_mode": {
    "name": "ipython",
    "version": 2
   },
   "file_extension": ".py",
   "mimetype": "text/x-python",
   "name": "python",
   "nbconvert_exporter": "python",
   "pygments_lexer": "ipython2",
   "version": "2.7.6"
  }
 },
 "nbformat": 4,
 "nbformat_minor": 0
}